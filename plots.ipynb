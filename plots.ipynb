{
 "cells": [
  {
   "cell_type": "code",
   "execution_count": 6,
   "metadata": {},
   "outputs": [
    {
     "ename": "ModuleNotFoundError",
     "evalue": "No module named 'seaborn'",
     "output_type": "error",
     "traceback": [
      "\u001b[0;31m---------------------------------------------------------------------------\u001b[0m",
      "\u001b[0;31mModuleNotFoundError\u001b[0m                       Traceback (most recent call last)",
      "Cell \u001b[0;32mIn[6], line 3\u001b[0m\n\u001b[1;32m      1\u001b[0m \u001b[38;5;28;01mimport\u001b[39;00m \u001b[38;5;21;01mmatplotlib\u001b[39;00m\u001b[38;5;21;01m.\u001b[39;00m\u001b[38;5;21;01mpyplot\u001b[39;00m \u001b[38;5;28;01mas\u001b[39;00m \u001b[38;5;21;01mplt\u001b[39;00m\n\u001b[1;32m      2\u001b[0m \u001b[38;5;28;01mfrom\u001b[39;00m \u001b[38;5;21;01mmatplotlib\u001b[39;00m \u001b[38;5;28;01mimport\u001b[39;00m cm\n\u001b[0;32m----> 3\u001b[0m \u001b[38;5;28;01mimport\u001b[39;00m \u001b[38;5;21;01mseaborn\u001b[39;00m \u001b[38;5;28;01mas\u001b[39;00m \u001b[38;5;21;01msns\u001b[39;00m\n\u001b[1;32m      4\u001b[0m \u001b[38;5;28;01mimport\u001b[39;00m \u001b[38;5;21;01mnumpy\u001b[39;00m \u001b[38;5;28;01mas\u001b[39;00m \u001b[38;5;21;01mnp\u001b[39;00m\n\u001b[1;32m      5\u001b[0m \u001b[38;5;28;01mimport\u001b[39;00m \u001b[38;5;21;01mnetworkx\u001b[39;00m \u001b[38;5;28;01mas\u001b[39;00m \u001b[38;5;21;01mnx\u001b[39;00m\n",
      "\u001b[0;31mModuleNotFoundError\u001b[0m: No module named 'seaborn'"
     ]
    }
   ],
   "source": [
    "import matplotlib.pyplot as plt\n",
    "from matplotlib import cm\n",
    "import seaborn as sns\n",
    "import numpy as np\n",
    "import networkx as nx\n",
    "import datetime as dt\n",
    "import random\n",
    "import pickle\n",
    "import math\n",
    "import csv\n",
    "import os\n",
    "\n",
    "%matplotlib inline"
   ]
  },
  {
   "cell_type": "markdown",
   "metadata": {},
   "source": [
    "### Visualizations & plots"
   ]
  },
  {
   "cell_type": "code",
   "execution_count": 10,
   "metadata": {},
   "outputs": [],
   "source": [
    "home_dir = os.path.expanduser(\"~\")\n",
    "code_dir = os.path.join(home_dir,\"Developer\",\"GitHub\",\"endogenous-growth\")\n",
    "work_dir = os.path.join(home_dir,\"Documents\",\"Research\",\"Growth\")\n",
    "figs_dir = os.path.join(code_dir,\"figures\")"
   ]
  },
  {
   "cell_type": "code",
   "execution_count": 3,
   "metadata": {},
   "outputs": [],
   "source": [
    "from utils import infomap_compression"
   ]
  },
  {
   "cell_type": "markdown",
   "metadata": {},
   "source": [
    "### Endogenous growth -- network visualizations"
   ]
  },
  {
   "cell_type": "code",
   "execution_count": 5,
   "metadata": {},
   "outputs": [],
   "source": [
    "def plot_networks(G_list,G_name,G_run):\n",
    "        \n",
    "    N = G_list[-1].number_of_nodes()\n",
    "    m = G_list[0].number_of_nodes()\n",
    "    \n",
    "    # initilize layout position list\n",
    "    pos = nx.kamada_kawai_layout(G_list[0])\n",
    "    pos_list = [pos] * m\n",
    "    # now loop through the added nodes\n",
    "    for node in range(m,len(G_list)):\n",
    "        G = G_list[node]\n",
    "        # get the new node into position\n",
    "        tmp = nx.spring_layout(G, pos=pos, fixed=pos.keys())\n",
    "        pos[max(G.nodes)] = tmp[max(G.nodes)]\n",
    "        # get the new layout\n",
    "        pos = nx.kamada_kawai_layout(G, pos=pos)\n",
    "        pos_list.append(pos)\n",
    "        \n",
    "    # COLORING\n",
    "    age_frac = [i/N for i in range(N)]\n",
    "    node_ages = {i:1/N for i in range(m)}\n",
    "    # now loop through the added nodes\n",
    "    for node in range(m,len(G_list)):\n",
    "        G = G_list[node]\n",
    "        node_ages[max(G.nodes)] = age_frac[node]\n",
    "\n",
    "    # MAKE PLOTS\n",
    "    for i, G in enumerate(G_list):\n",
    "\n",
    "        # initialize figure\n",
    "        fig, ax = plt.subplots(1, 1, dpi=200, figsize=(4.5,4))\n",
    "\n",
    "        # layout by network \n",
    "        pos = pos_list[i]\n",
    "\n",
    "        # color by node age\n",
    "        node_age = [node_ages[node] for node in G.nodes()]\n",
    "\n",
    "        # size by pagerank\n",
    "        pr = nx.pagerank(G, alpha=0.95, max_iter=500)\n",
    "        pr_max = max(pr.values())\n",
    "        pr_rel = [pr[node]/pr_max for node in G.nodes()]    \n",
    "\n",
    "        # draw network\n",
    "        nx.draw_networkx_nodes(G, pos, node_size=[10+200*pr for pr in pr_rel], node_color=node_age, linewidths=1.5,\n",
    "                            edgecolors='#333333', cmap='BuPu', ax=ax)\n",
    "        nx.draw_networkx_edges(G, pos, edge_color='#999999', ax=ax, width=2, alpha=0.6)\n",
    "        ax.set_axis_off()\n",
    "\n",
    "        # Create a colorbar\n",
    "        cmap = plt.colormaps['BuPu']\n",
    "        sm = plt.cm.ScalarMappable(cmap=cmap, norm=plt.Normalize(vmin = 0, vmax = i))\n",
    "        sm.set_array([])\n",
    "        plt.colorbar(sm, ax=ax)\n",
    "\n",
    "        plt.savefig(os.path.join(code_dir,\"networks\",G_name,\"jpeg_\"+str(G_run),\"N_\"+str(G.number_of_nodes())+\".jpeg\"), bbox_inches='tight', dpi=300)\n",
    "        plt.savefig(os.path.join(code_dir,\"networks\",G_name,\"pdfs_\"+str(G_run),\"N_\"+str(G.number_of_nodes())+\".pdf\"), bbox_inches='tight')\n",
    "        plt.close()\n"
   ]
  },
  {
   "cell_type": "code",
   "execution_count": 6,
   "metadata": {},
   "outputs": [
    {
     "ename": "FileExistsError",
     "evalue": "[Errno 17] File exists: '/Users/carolina.mattsson/Developer/GitHub/endogenous-growth/networks/i1o1_m3_a0.95_grnd/pdfs_0'",
     "output_type": "error",
     "traceback": [
      "\u001b[0;31m---------------------------------------------------------------------------\u001b[0m",
      "\u001b[0;31mFileExistsError\u001b[0m                           Traceback (most recent call last)",
      "Cell \u001b[0;32mIn[6], line 21\u001b[0m\n\u001b[1;32m     18\u001b[0m networks \u001b[38;5;241m=\u001b[39m run\u001b[38;5;241m.\u001b[39mnetworks\n\u001b[1;32m     20\u001b[0m \u001b[38;5;66;03m# READY OUTPUT DIRECTORY\u001b[39;00m\n\u001b[0;32m---> 21\u001b[0m \u001b[43mos\u001b[49m\u001b[38;5;241;43m.\u001b[39;49m\u001b[43mmkdir\u001b[49m\u001b[43m(\u001b[49m\u001b[43mos\u001b[49m\u001b[38;5;241;43m.\u001b[39;49m\u001b[43mpath\u001b[49m\u001b[38;5;241;43m.\u001b[39;49m\u001b[43mjoin\u001b[49m\u001b[43m(\u001b[49m\u001b[43mcode_dir\u001b[49m\u001b[43m,\u001b[49m\u001b[38;5;124;43m\"\u001b[39;49m\u001b[38;5;124;43mnetworks\u001b[39;49m\u001b[38;5;124;43m\"\u001b[39;49m\u001b[43m,\u001b[49m\u001b[43mnetwork\u001b[49m\u001b[43m,\u001b[49m\u001b[38;5;124;43m\"\u001b[39;49m\u001b[38;5;124;43mpdfs_\u001b[39;49m\u001b[38;5;124;43m\"\u001b[39;49m\u001b[38;5;241;43m+\u001b[39;49m\u001b[38;5;28;43mstr\u001b[39;49m\u001b[43m(\u001b[49m\u001b[43mi\u001b[49m\u001b[43m)\u001b[49m\u001b[43m)\u001b[49m\u001b[43m)\u001b[49m\n\u001b[1;32m     22\u001b[0m os\u001b[38;5;241m.\u001b[39mmkdir(os\u001b[38;5;241m.\u001b[39mpath\u001b[38;5;241m.\u001b[39mjoin(code_dir,\u001b[38;5;124m\"\u001b[39m\u001b[38;5;124mnetworks\u001b[39m\u001b[38;5;124m\"\u001b[39m,network,\u001b[38;5;124m\"\u001b[39m\u001b[38;5;124mjpeg_\u001b[39m\u001b[38;5;124m\"\u001b[39m\u001b[38;5;241m+\u001b[39m\u001b[38;5;28mstr\u001b[39m(i)))\n\u001b[1;32m     24\u001b[0m \u001b[38;5;66;03m# PLOT NETWORKS\u001b[39;00m\n",
      "\u001b[0;31mFileExistsError\u001b[0m: [Errno 17] File exists: '/Users/carolina.mattsson/Developer/GitHub/endogenous-growth/networks/i1o1_m3_a0.95_grnd/pdfs_0'"
     ]
    }
   ],
   "source": [
    "# DEFINE NETWORKS\n",
    "runs = [0]\n",
    "gammas = [\"rnd\",0,1,2,3,4,5,6,7,8,9,\"inf\"]\n",
    "\n",
    "m = 3\n",
    "alpha = 0.95\n",
    "\n",
    "for i in runs:\n",
    "    for gamma in gammas:\n",
    "        \n",
    "        network = \"_\".join([\"i1o1\",\"m\"+str(m),\"a\"+str(alpha),\"g\"+str(gamma)])\n",
    "\n",
    "        # LOAD RUN\n",
    "        with open(os.path.join(code_dir,\"networks\",network,\"run_\"+str(i)+'.pkl'), 'rb') as f:\n",
    "            run = pickle.load(f)\n",
    "\n",
    "        # UNPACK\n",
    "        networks = run.networks\n",
    "        \n",
    "        # READY OUTPUT DIRECTORY\n",
    "        os.mkdir(os.path.join(code_dir,\"networks\",network,\"pdfs_\"+str(i)))\n",
    "        os.mkdir(os.path.join(code_dir,\"networks\",network,\"jpeg_\"+str(i)))\n",
    "\n",
    "        # PLOT NETWORKS\n",
    "        plot_networks(networks,network,i)\n"
   ]
  },
  {
   "cell_type": "markdown",
   "metadata": {},
   "source": [
    "### Path dependence -- node trajectories"
   ]
  },
  {
   "cell_type": "code",
   "execution_count": 5,
   "metadata": {},
   "outputs": [],
   "source": [
    "# DEFINE NETWORKS\n",
    "runs = [0,1,2,3,4,5,6,7,8,9,10,11,12,13,14,15,16,17,18]\n",
    "gammas = [\"rnd\",0,1,2,3,4,5,6,7,8,9]\n",
    "\n",
    "m = 3\n",
    "alpha = 0.95\n",
    "N = 100\n",
    "\n",
    "i_s = [10,20,30,40,50,60,70,80,90] # nodes entering at step i\n",
    "\n",
    "# NORMALIZED RANK OF NODES i\n",
    "ranks = {}\n",
    "ranks_avg = {}\n",
    "scores = {}\n",
    "scores_avg = {}\n",
    "\n",
    "for gamma in gammas:\n",
    "\n",
    "    # STORE OUTPUT\n",
    "    ranks[gamma] = {}\n",
    "    ranks_avg[gamma] = {} \n",
    "    scores[gamma] = {}\n",
    "    scores_avg[gamma] = {}\n",
    "\n",
    "    for i in i_s:\n",
    "\n",
    "        # STORE OUTPUT\n",
    "        ranks[gamma][i] = [] \n",
    "        scores[gamma][i] = [] \n",
    "        \n",
    "        for run in runs:\n",
    "            # DEFINE NETWORK\n",
    "            network = \"_\".join([\"i1o1\",\"m\"+str(m),\"a\"+str(alpha),\"g\"+str(gamma)])\n",
    "\n",
    "            # LOAD RUN\n",
    "            with open(os.path.join(code_dir,\"networks\",network,\"run_\"+str(run)+'.pkl'), 'rb') as f:\n",
    "                model = pickle.load(f)\n",
    "\n",
    "            # UNPACK\n",
    "            networks = model.networks\n",
    "            \n",
    "            # IDENTIFY NODE i\n",
    "            n_i = max(networks[i-1].nodes())\n",
    "\n",
    "            # GET SCORES\n",
    "            score = [G.nodes[n_i]['score'] for G in networks[i-1:]]\n",
    "            scores[gamma][i].append(np.array(score))\n",
    "\n",
    "            # GET RANKS\n",
    "            valuess = [nx.get_node_attributes(G, 'score') for G in networks[i-1:]]\n",
    "            rankings = [{node: rank for rank, node in enumerate(sorted(values, key=values.get))} for values in valuess]\n",
    "            rank = [ranking[n_i]/(i+j-1) for j, ranking in enumerate(rankings)]\n",
    "            ranks[gamma][i].append(np.array(rank))\n",
    "                \n",
    "        # GET AVERAGE RANKS\n",
    "        ranks_avg[gamma][i] = np.zeros(len(ranks[gamma][i][0]))\n",
    "        for run in runs:\n",
    "            ranks_avg[gamma][i] = ranks_avg[gamma][i] + ranks[gamma][i][run]\n",
    "        ranks_avg[gamma][i] = ranks_avg[gamma][i]/len(runs)\n",
    "\n",
    "        # GET AVERAGE SCORES\n",
    "        scores_avg[gamma][i] = np.zeros(len(scores[gamma][i][0]))\n",
    "        for run in runs:\n",
    "            scores_avg[gamma][i] = scores_avg[gamma][i] + scores[gamma][i][run]\n",
    "        scores_avg[gamma][i] = scores_avg[gamma][i]/len(runs)\n",
    "\n",
    "    # READY OUTPUT DIRECTORY\n",
    "    output = \"_\".join([\"i1o1\",\"m\"+str(m),\"a\"+str(alpha)])\n",
    "    if not os.path.exists(os.path.join(figs_dir,output)):\n",
    "        os.mkdir(os.path.join(figs_dir,output))"
   ]
  },
  {
   "cell_type": "code",
   "execution_count": 16,
   "metadata": {},
   "outputs": [],
   "source": [
    "# GAMMAS\n",
    "plot_gammas = [0,5,8]\n",
    "N=100\n",
    "\n",
    "# Create a colorbar\n",
    "cmap = plt.colormaps['BuPu'] \n",
    "colors = [cmap(i) for i in np.linspace(0.5, 1, len(i_s))]\n",
    "\n",
    "#initialize figure\n",
    "fig, ax = plt.subplots(1, 3, dpi=200, figsize=(12,4), sharex=True, sharey=True)\n",
    "\n",
    "for c, i in enumerate(i_s):\n",
    "\n",
    "       x = range(i,N+1)\n",
    "\n",
    "       # Plot the instances\n",
    "       for run in runs:\n",
    "              ax[0].plot(x, ranks[plot_gammas[0]][i][run], linestyle='-', linewidth = 0.5, alpha=0.2, color=colors[c])\n",
    "              ax[1].plot(x, ranks[plot_gammas[1]][i][run], linestyle='-', linewidth = 0.5, alpha=0.2, color=colors[c])\n",
    "              ax[2].plot(x, ranks[plot_gammas[2]][i][run], linestyle='-', linewidth = 0.5, alpha=0.2, color=colors[c])\n",
    "\n",
    "       # Plot the averages\n",
    "       ax[0].plot(x, ranks_avg[plot_gammas[0]][i], linestyle='-', linewidth = 2, alpha=1, color=colors[c])\n",
    "       ax[1].plot(x, ranks_avg[plot_gammas[1]][i], linestyle='-', linewidth = 2, alpha=1, color=colors[c])\n",
    "       ax[2].plot(x, ranks_avg[plot_gammas[2]][i], linestyle='-', linewidth = 2, alpha=1, color=colors[c])\n",
    "\n",
    "ax[0].set_ylim(0,1)\n",
    "ax[0].set_xlim(1,N)\n",
    "\n",
    "ax[0].set_title(\"Random (\"+r'$\\gamma$'+f' = {plot_gammas[0]})', fontsize=14)\n",
    "ax[1].set_title(\"Strategic (\"+r'$\\gamma$'+f' = {plot_gammas[1]})', fontsize=14)\n",
    "ax[2].set_title(\"Near-optimal (\"+r'$\\gamma$'+f' = {plot_gammas[2]})', fontsize=14)\n",
    "ax[1].set_xlabel(\"Growth step\", fontsize=12)\n",
    "ax[0].set_ylabel(\"Rank (relative)\", fontsize=12)\n",
    "\n",
    "\n",
    "plt.savefig(os.path.join(figs_dir,output,\"path-dependence.jpeg\"), bbox_inches='tight', dpi=300)\n",
    "plt.savefig(os.path.join(figs_dir,output,\"path-dependence.pdf\"), bbox_inches='tight')\n",
    "plt.close()"
   ]
  },
  {
   "cell_type": "markdown",
   "metadata": {},
   "source": [
    "### Compressibility over time"
   ]
  },
  {
   "cell_type": "code",
   "execution_count": null,
   "metadata": {},
   "outputs": [],
   "source": [
    "# DEFINE NETWORKS\n",
    "runs = [0,1,2,3]\n",
    "gammas = [\"rnd\",0,1,2,3,4,5,6,7,8,9,\"inf\"]\n",
    "\n",
    "m = 3\n",
    "alpha = 0.95\n",
    "N = 100\n",
    "\n",
    "codelengths = {}\n",
    "codelengths_avg = {}\n",
    "\n",
    "for gamma in gammas:\n",
    "    \n",
    "    # STORE OUTPUT\n",
    "    codelengths[gamma] = [] \n",
    "    \n",
    "    for i in runs:\n",
    "        # DEFINE NETWORK\n",
    "        network = \"_\".join([\"i1o1\",\"m\"+str(m),\"a\"+str(alpha),\"g\"+str(gamma)])\n",
    "\n",
    "        # LOAD RUN\n",
    "        with open(os.path.join(code_dir,\"networks\",network,\"run_\"+str(i)+'.pkl'), 'rb') as f:\n",
    "            run = pickle.load(f)\n",
    "\n",
    "        # UNPACK\n",
    "        networks = run.networks\n",
    "        \n",
    "        # GET COMPRESSION\n",
    "        codelength = [infomap_compression(G) for G in networks]\n",
    "        codelengths[gamma].append(np.array(codelength))\n",
    "            \n",
    "    # GET AVERAGE CODELENGTH\n",
    "    codelengths_avg[gamma] = np.zeros(len(codelengths[gamma][0]))\n",
    "    for i in runs:\n",
    "        codelengths_avg[gamma] = codelengths_avg[gamma] + codelengths[gamma][i]\n",
    "    codelengths_avg[gamma] = codelengths_avg[gamma]/len(runs)\n",
    "\n",
    "    # READY OUTPUT DIRECTORY\n",
    "    output = \"_\".join([\"i1o1\",\"m\"+str(m),\"a\"+str(alpha)])\n",
    "    if not os.path.exists(os.path.join(figs_dir,output)):\n",
    "        os.mkdir(os.path.join(figs_dir,output))"
   ]
  },
  {
   "cell_type": "code",
   "execution_count": 11,
   "metadata": {},
   "outputs": [
    {
     "ename": "NameError",
     "evalue": "name 'codelengths' is not defined",
     "output_type": "error",
     "traceback": [
      "\u001b[0;31m---------------------------------------------------------------------------\u001b[0m",
      "\u001b[0;31mNameError\u001b[0m                                 Traceback (most recent call last)",
      "Cell \u001b[0;32mIn[11], line 21\u001b[0m\n\u001b[1;32m     19\u001b[0m \u001b[38;5;66;03m# Plot the instances\u001b[39;00m\n\u001b[1;32m     20\u001b[0m \u001b[38;5;28;01mfor\u001b[39;00m pwr \u001b[38;5;129;01min\u001b[39;00m \u001b[38;5;28mreversed\u001b[39m(gammas):\n\u001b[0;32m---> 21\u001b[0m     \u001b[38;5;28;01mfor\u001b[39;00m run \u001b[38;5;129;01min\u001b[39;00m \u001b[43mcodelengths\u001b[49m[pwr]:\n\u001b[1;32m     22\u001b[0m         ax\u001b[38;5;241m.\u001b[39mplot(x, run, linestyle\u001b[38;5;241m=\u001b[39m\u001b[38;5;124m'\u001b[39m\u001b[38;5;124m-\u001b[39m\u001b[38;5;124m'\u001b[39m, linewidth \u001b[38;5;241m=\u001b[39m \u001b[38;5;241m1\u001b[39m, alpha\u001b[38;5;241m=\u001b[39m\u001b[38;5;241m0.2\u001b[39m, color\u001b[38;5;241m=\u001b[39mpwr_colors[gammas\u001b[38;5;241m.\u001b[39mindex(pwr)])\n\u001b[1;32m     23\u001b[0m \u001b[38;5;66;03m# Plot the average\u001b[39;00m\n",
      "\u001b[0;31mNameError\u001b[0m: name 'codelengths' is not defined"
     ]
    },
    {
     "data": {
      "image/png": "[encoded data removed]",
      "text/plain": [
       "<Figure size 1200x800 with 1 Axes>"
      ]
     },
     "metadata": {},
     "output_type": "display_data"
    }
   ],
   "source": [
    "pwr_colors = [\"#dddddd\",\"#dddddd\",\"#cccccc\",\"#bbbbbb\",\"#aaaaaa\",\"#999999\",\n",
    "       \"#888888\",\"#777777\",\"#666666\",\"#555555\",\"#444444\",\"#444444\"]\n",
    "\n",
    "avg_colors = [\"#CDB1D5\",\"#CDB1D5\",\"#C1A5C9\",\"#B69ABE\",\"#B69ABE\",\"#B384C0\",\n",
    "       \"#94789C\",\"#896D91\",\"#7D6185\",\"#72567A\",\"#674B6F\",\"#674B6F\"]\n",
    "\n",
    "hgl_colors = [\"#73b739\",\"#ac58c4\",\"#cc417a\",\"#4aa98c\",\"#ce4933\",\"#5ba5d7\",\n",
    "       \"#d58134\",\"#676fc6\",\"#bfaf46\",\"#c47ab4\",\"#647e36\",\"#c36665\",\"#a77c43\",\"#5dba6a\",]+[\"#e6e6e6\"]*200\n",
    "\n",
    "#initialize figure\n",
    "fig, ax = plt.subplots(1, 1, dpi=200, figsize=(6,4))\n",
    "\n",
    "# get network size\n",
    "x = range(1,N+1)\n",
    "\n",
    "# plot\n",
    "avg_powers = []\n",
    "avg_labels = []\n",
    "# Plot the instances\n",
    "for pwr in reversed(gammas):\n",
    "    for run in codelengths[pwr]:\n",
    "        ax.plot(x, run, linestyle='-', linewidth = 1, alpha=0.2, color=pwr_colors[gammas.index(pwr)])\n",
    "# Plot the average\n",
    "for pwr in reversed(gammas):\n",
    "    avg_power, = ax.plot(x, codelengths_avg[pwr], linestyle='-.', alpha=1, color=avg_colors[gammas.index(pwr)])\n",
    "    avg_powers.append(avg_power)\n",
    "    avg_labels.append('PR^'+str(pwr))\n",
    "\n",
    "ax.set_title(\"PageRank 'alpha': \"+str(alpha), fontsize=14)\n",
    "ax.set_xlabel(\"Number of nodes\", fontsize=12)\n",
    "ax.set_ylabel(\"Compression\", fontsize=12)\n",
    "ax.legend(avg_powers, avg_labels, loc='upper left', bbox_to_anchor=(1, 1))\n",
    "\n",
    "plt.savefig(os.path.join(figs_dir,output,\"codelengths.jpeg\"), bbox_inches='tight', dpi=300)\n",
    "plt.savefig(os.path.join(figs_dir,output,\"codelengths.pdf\"), bbox_inches='tight')\n",
    "plt.close()"
   ]
  },
  {
   "cell_type": "markdown",
   "metadata": {},
   "source": [
    "### NOW FROM HERE\n",
    "* degree distribution\n",
    "* creative destruction"
   ]
  },
  {
   "cell_type": "markdown",
   "metadata": {},
   "source": []
  },
  {
   "cell_type": "markdown",
   "metadata": {},
   "source": []
  },
  {
   "cell_type": "markdown",
   "metadata": {},
   "source": [
    "### Plot --- pagerank by ID"
   ]
  },
  {
   "cell_type": "code",
   "execution_count": null,
   "metadata": {},
   "outputs": [
    {
     "name": "stderr",
     "output_type": "stream",
     "text": [
      "/usr/local/Cellar/ipython/6.4.0_1/libexec/vendor/lib/python3.7/site-packages/ipykernel_launcher.py:62: RuntimeWarning: divide by zero encountered in true_divide\n"
     ]
    }
   ],
   "source": [
    "#for initial in [2,4,6,8]:\n",
    "#for sample in [0.7,0.8,0.9]:\n",
    "for jumps in [0.85,0.9,0.95]:\n",
    "\n",
    "    # DEFINE NETWORK\n",
    "    prefix = ''\n",
    "    nodes = 100\n",
    "    links = 1\n",
    "    initial = 6\n",
    "    sample = 0.8\n",
    "    #jumps = 0.95\n",
    "\n",
    "    pwrs = [8]\n",
    "    runs = 10\n",
    "\n",
    "    pwr_pageranks = {}\n",
    "    ser_pageranks = {}\n",
    "\n",
    "    for pwr in pwrs:\n",
    "\n",
    "        # STORE OUTPUT\n",
    "        pwr_pageranks[pwr] = {} \n",
    "\n",
    "        for run in range(runs):\n",
    "            # DEFINE NETWORK\n",
    "            network = prefix+\"_\".join([\"N\"+str(nodes),\n",
    "                                       \"m\"+str(links),\n",
    "                                       \"k\"+str(pwr),\n",
    "                                       \"m0\"+str(initial),\n",
    "                                       \"x\"+str(sample),\n",
    "                                       \"a\"+str(jumps)])\n",
    "\n",
    "            # LOAD NETWORK\n",
    "            with open(\"../nets/\"+network+\"/\"+str(run)+\".pickle\", 'rb') as netfile:\n",
    "                G_list = pickle.load(netfile)\n",
    "\n",
    "            # GET PAGERANKS\n",
    "            pageranks = [nx.pagerank(G, alpha=0.95, max_iter=500) for G in G_list[:(min(nodes,50)-initial)]]\n",
    "            pwr_pageranks[pwr][run] = pageranks\n",
    "\n",
    "        # GET PAGERANK TIMESERIES\n",
    "        ser_pageranks[pwr] = {}\n",
    "        for run in range(runs):\n",
    "            timesteps = len(pwr_pageranks[pwr][run])\n",
    "            ser_pageranks[pwr][run] = np.zeros((min(nodes,50),timesteps))\n",
    "            for timestep in range(timesteps):\n",
    "                for node in pwr_pageranks[pwr][run][timestep]:\n",
    "                    ser_pageranks[pwr][run][node][timestep] = pwr_pageranks[pwr][run][timestep][node]\n",
    "\n",
    "        # SET COLORMAPPING\n",
    "        viridis = cm.get_cmap('viridis', min(nodes,50))\n",
    "\n",
    "        #initialize figure\n",
    "        fig, ax = plt.subplots(1, 1, dpi=200, figsize=(4,4))\n",
    "\n",
    "        # get network size\n",
    "        x = np.array(range(initial,min(nodes,50)))\n",
    "\n",
    "        # plot\n",
    "        for node in range(min(nodes,50)):\n",
    "            for run in ser_pageranks[pwr]:\n",
    "                mask = np.isfinite(1/ser_pageranks[pwr][run][node])\n",
    "                ax.plot(x[mask], ser_pageranks[pwr][run][node][mask], \n",
    "                        linestyle='-', linewidth = 1, alpha=0.2, color=viridis.colors[node])\n",
    "\n",
    "        ax.set_title(\"PageRank 'alpha': \"+str(jumps), fontsize=12)                \n",
    "        ax.set_xlabel(\"Number of nodes\", fontsize=12)\n",
    "        ax.set_ylabel(\"PageRank\", fontsize=12)\n",
    "\n",
    "        plt.savefig(\"../figs/pagerank_\"+network+\"_a.png\", bbox_inches='tight', dpi=425)\n",
    "        plt.savefig(\"../figs/pagerank_\"+network+\"_a.pdf\", bbox_inches='tight')\n",
    "        plt.close()"
   ]
  },
  {
   "cell_type": "code",
   "execution_count": null,
   "metadata": {},
   "outputs": [
    {
     "name": "stderr",
     "output_type": "stream",
     "text": [
      "/usr/local/Cellar/ipython/6.4.0_1/libexec/vendor/lib/python3.7/site-packages/ipykernel_launcher.py:15: RuntimeWarning: divide by zero encountered in true_divide\n",
      "  from ipykernel import kernelapp as app\n"
     ]
    }
   ],
   "source": [
    "# get colormapping\n",
    "viridis = cm.get_cmap('viridis', 50)\n",
    "\n",
    "for pwr in ser_pageranks:\n",
    "\n",
    "    #initialize figure\n",
    "    fig, ax = plt.subplots(1, 1, dpi=200, figsize=(4,4))\n",
    "\n",
    "    # get network size\n",
    "    x = np.array(range(6,51))\n",
    "\n",
    "    # plot\n",
    "    for node in range(50):\n",
    "        for run in ser_pageranks[pwr]:\n",
    "            mask = np.isfinite(1/ser_pageranks[pwr][run][node])\n",
    "            ax.plot(x[mask], ser_pageranks[pwr][run][node][mask], \n",
    "                    linestyle='-', linewidth = 1, alpha=0.2, color=viridis.colors[node])\n",
    "    \n",
    "    ax.set_xlabel(\"Number of nodes\", fontsize=12)\n",
    "    ax.set_ylabel(\"PageRank\", fontsize=12)\n",
    "    ax.set_ylim(0,0.28)\n",
    "\n",
    "    plt.savefig(\"../figs/pagerank\"+str(pwr)+\".png\", bbox_inches='tight', dpi=425)\n",
    "    plt.savefig(\"../figs/pagerank\"+str(pwr)+\".pdf\", bbox_inches='tight')\n",
    "    plt.close()"
   ]
  },
  {
   "cell_type": "code",
   "execution_count": null,
   "metadata": {},
   "outputs": [
    {
     "name": "stderr",
     "output_type": "stream",
     "text": [
      "/usr/local/Cellar/ipython/6.4.0_1/libexec/vendor/lib/python3.7/site-packages/ipykernel_launcher.py:14: RuntimeWarning: divide by zero encountered in true_divide\n",
      "  \n",
      "/usr/local/Cellar/ipython/6.4.0_1/libexec/vendor/lib/python3.7/site-packages/ipykernel_launcher.py:26: RuntimeWarning: divide by zero encountered in true_divide\n"
     ]
    }
   ],
   "source": [
    "# get colormapping\n",
    "viridis = cm.get_cmap('viridis', 50)\n",
    "\n",
    "#initialize figure\n",
    "fig, ax = plt.subplots(1, 2, dpi=200, figsize=(10,4.5))\n",
    "\n",
    "# get network size\n",
    "x = np.array(range(6,50))\n",
    "\n",
    "# plot 2\n",
    "pwr = 2\n",
    "for node in range(50):\n",
    "    for run in ser_pageranks[pwr]:\n",
    "        mask = np.isfinite(1/ser_pageranks[pwr][run][node])\n",
    "        ax[0].plot(x[mask], ser_pageranks[pwr][run][node][mask], \n",
    "                linestyle='-', linewidth = 1, alpha=0.2, color=viridis.colors[node])\n",
    "\n",
    "ax[0].set_title('Pagerank dynamics, power=2')\n",
    "ax[0].set_xlabel(\"Number of nodes\", fontsize=12)\n",
    "ax[0].set_ylabel(\"PageRank\", fontsize=12)\n",
    "\n",
    "# plot 7\n",
    "pwr = 8\n",
    "for node in range(50):\n",
    "    for run in ser_pageranks[pwr]:\n",
    "        mask = np.isfinite(1/ser_pageranks[pwr][run][node])\n",
    "        ax[1].plot(x[mask], ser_pageranks[pwr][run][node][mask], \n",
    "                linestyle='-', linewidth = 1, alpha=0.2, color=viridis.colors[node])\n",
    "\n",
    "ax[1].set_title('Pagerank dynamics, power=8')\n",
    "ax[1].set_xlabel(\"Number of nodes\", fontsize=12)\n",
    "\n",
    "plt.savefig(\"../figs/pagerank_pwr.png\", bbox_inches='tight', dpi=425)\n",
    "plt.savefig(\"../figs/pagerank_pwr.pdf\", bbox_inches='tight')\n",
    "plt.close()"
   ]
  },
  {
   "cell_type": "code",
   "execution_count": null,
   "metadata": {},
   "outputs": [],
   "source": []
  },
  {
   "cell_type": "code",
   "execution_count": null,
   "metadata": {},
   "outputs": [],
   "source": []
  },
  {
   "cell_type": "code",
   "execution_count": null,
   "metadata": {},
   "outputs": [],
   "source": []
  },
  {
   "cell_type": "code",
   "execution_count": null,
   "metadata": {},
   "outputs": [],
   "source": []
  },
  {
   "cell_type": "code",
   "execution_count": null,
   "metadata": {},
   "outputs": [],
   "source": []
  },
  {
   "cell_type": "markdown",
   "metadata": {},
   "source": [
    "### Graveyard"
   ]
  },
  {
   "cell_type": "code",
   "execution_count": null,
   "metadata": {},
   "outputs": [
    {
     "name": "stderr",
     "output_type": "stream",
     "text": [
      "/usr/local/lib/python3.7/site-packages/numpy/lib/histograms.py:789: RuntimeWarning: divide by zero encountered in true_divide\n",
      "  return n/db/n.sum(), bin_edges\n",
      "/usr/local/lib/python3.7/site-packages/numpy/lib/histograms.py:789: RuntimeWarning: invalid value encountered in true_divide\n",
      "  return n/db/n.sum(), bin_edges\n"
     ]
    }
   ],
   "source": [
    "comcols = [\"#73b739\",\"#ac58c4\",\"#5dba6a\",\"#cc417a\",\"#4aa98c\",\"#ce4933\",\"#5ba5d7\",\n",
    "       \"#d58134\",\"#676fc6\",\"#bfaf46\",\"#c47ab4\",\"#647e36\",\"#c36665\",\"#a77c43\"]+[\"#e6e6e6\"]*200\n",
    "\n",
    "for node in range(n_added):\n",
    "    # initialize atributes\n",
    "    G = G_list[node]\n",
    "    \n",
    "    # color by community\n",
    "    partition = community.best_partition(nx.Graph(G))\n",
    "    col = [comcols[com] for com in partition.values()]\n",
    "\n",
    "    # size by pagerank\n",
    "    pr = nx.pagerank(G, alpha=0.95, max_iter=500)\n",
    "    pr_max = max(pr.values())\n",
    "    big = [10+200*pr[node]/pr_max for node in G.nodes()]    \n",
    "    \n",
    "    # compute degree distribution\n",
    "    degs = np.array(list(dict(G.degree()).values()))\n",
    "    x, y = plot_degree(degs, number_of_bins=12)\n",
    "    \n",
    "    # plot each frame\n",
    "    for i in range(frames):\n",
    "        # initialize plot\n",
    "        fig, ax = plt.subplots(1, 2, dpi=200, figsize=(10,4.5))\n",
    "\n",
    "        # get position mapping\n",
    "        pos = pos_list[node*frames+i]\n",
    "        \n",
    "        # draw network\n",
    "        nx.draw_networkx_nodes(G, pos, node_size=big, node_color=col, linewidths=1.5,\n",
    "                               edgecolors='#333333', ax=ax[0])\n",
    "        nx.draw_networkx_edges(G, pos, edge_color='#999999', ax=ax[0], width=2, alpha=0.6)\n",
    "        ax[0].set_xlim(minx, maxx)\n",
    "        ax[0].set_ylim(miny, maxy)\n",
    "        ax[0].set_axis_off()\n",
    "\n",
    "\n",
    "        ax[1].plot(x, y, marker='o', linestyle='', markersize=8,\n",
    "                   markeredgewidth=0, alpha=0.8, color='#333333')\n",
    "        ax[1].set_xlabel(\"$k$\", fontsize=16)\n",
    "        ax[1].set_ylabel(\"$P(k)$\", fontsize=16)\n",
    "        ax[1].grid(linestyle='-', linewidth=2.5, alpha=0.3, color='#999999')\n",
    "        ax[1].set_yscale('log')\n",
    "\n",
    "\n",
    "        plt.savefig(\"../figs/pngs/economy_n\"+str(node)+\"_f\"+str(i)+\".png\", bbox_inches='tight', dpi=425)\n",
    "        #plt.savefig(\"../figs/pdfs/economy_n\"+str(node)+\"_f\"+str(i)+\".pdf\", bbox_inches='tight')\n",
    "        plt.close(fig)"
   ]
  },
  {
   "cell_type": "code",
   "execution_count": null,
   "metadata": {},
   "outputs": [],
   "source": []
  },
  {
   "cell_type": "code",
   "execution_count": null,
   "metadata": {},
   "outputs": [
    {
     "name": "stdout",
     "output_type": "stream",
     "text": [
      "Counter({0: 11, 1: 8, 4: 6, 2: 5, 3: 3})\n",
      "Counter({0: 11, 1: 9, 4: 6, 2: 5, 3: 3})\n",
      "[((0, 0), 11), ((1, 1), 8), ((2, 2), 5), ((4, 4), 5), ((3, 3), 3), ((4, 1), 1)]\n"
     ]
    },
    {
     "data": {
      "text/plain": [
       "{0: 0, 1: 1, 2: 2, 4: 4, 3: 3}"
      ]
     },
     "execution_count": 33,
     "metadata": {},
     "output_type": "execute_result"
    }
   ],
   "source": [
    "comm_prev = communities[27]\n",
    "comm_list = [comm_prev]\n",
    "comm_init = communities[28]\n",
    "comm_prev_cnt = Counter(comm_prev.values())\n",
    "print(comm_prev_cnt)\n",
    "comm_init_cnt = Counter(comm_init.values())\n",
    "print(comm_init_cnt)\n",
    "comm_overlap = Counter()\n",
    "for node in comm_prev:\n",
    "    comm_overlap[(comm_prev[node],comm_init[node])] += 1\n",
    "print(comm_overlap.most_common())\n",
    "comm_map = {}\n",
    "# get the most common matching between communities\n",
    "for comm_pair, overlap in comm_overlap.most_common():\n",
    "    comm_exist, comm_new = comm_pair\n",
    "    # keep the largest overlaps between distinct communities\n",
    "    if comm_exist in comm_prev_cnt and comm_new in comm_init_cnt:\n",
    "        comm_exist_size = comm_prev_cnt.pop(comm_exist)\n",
    "        comm_new_size   = comm_init_cnt.pop(comm_new)\n",
    "        # record as a dictionary mapping\n",
    "        comm_map[comm_new] = comm_exist\n",
    "        \n",
    "# give new communities new index values\n",
    "needs_index = [comm for comm, size in sorted(comm_init_cnt.items(), key=lambda item: item[1])]\n",
    "idx = 0\n",
    "while 0 > len(needs_index):\n",
    "    if idx not in comm_map and idx not in comm_prev_cnt:\n",
    "        comm_new = needs_index.pop()\n",
    "        comm_map[comm_new] = idx\n",
    "    idx+=1\n",
    "\n",
    "comm_map"
   ]
  }
 ],
 "metadata": {
  "kernelspec": {
   "display_name": "Python 3 (ipykernel)",
   "language": "python",
   "name": "python3"
  },
  "language_info": {
   "codemirror_mode": {
    "name": "ipython",
    "version": 3
   },
   "file_extension": ".py",
   "mimetype": "text/x-python",
   "name": "python",
   "nbconvert_exporter": "python",
   "pygments_lexer": "ipython3",
   "version": "3.11.7"
  }
 },
 "nbformat": 4,
 "nbformat_minor": 2
}
