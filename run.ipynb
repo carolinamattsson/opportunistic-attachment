{
 "cells": [
  {
   "cell_type": "code",
   "execution_count": 1,
   "metadata": {},
   "outputs": [
    {
     "name": "stdout",
     "output_type": "stream",
     "text": [
      "Intel MKL WARNING: Support of Intel(R) Streaming SIMD Extensions 4.2 (Intel(R) SSE4.2) enabled only processors has been deprecated. Intel oneAPI Math Kernel Library 2025.0 will require Intel(R) Advanced Vector Extensions (Intel(R) AVX) instructions.\n",
      "Intel MKL WARNING: Support of Intel(R) Streaming SIMD Extensions 4.2 (Intel(R) SSE4.2) enabled only processors has been deprecated. Intel oneAPI Math Kernel Library 2025.0 will require Intel(R) Advanced Vector Extensions (Intel(R) AVX) instructions.\n"
     ]
    }
   ],
   "source": [
    "import matplotlib.pyplot as plt\n",
    "from matplotlib import cm\n",
    "import networkx as nx\n",
    "import numpy as np\n",
    "from scipy.stats import entropy\n",
    "import datetime as dt\n",
    "from collections import Counter\n",
    "import infomap\n",
    "import random\n",
    "import pickle\n",
    "import time\n",
    "import math\n",
    "import csv\n",
    "import os\n",
    "\n",
    "%matplotlib inline"
   ]
  },
  {
   "cell_type": "markdown",
   "metadata": {},
   "source": [
    "## Run the model to generate networks"
   ]
  },
  {
   "cell_type": "code",
   "execution_count": 2,
   "metadata": {},
   "outputs": [],
   "source": [
    "home_dir = os.path.expanduser(\"~\")\n",
    "code_dir = os.path.join(home_dir,\"Developer\",\"GitHub\",\"endogenous-growth\")"
   ]
  },
  {
   "cell_type": "code",
   "execution_count": 3,
   "metadata": {},
   "outputs": [],
   "source": [
    "from models import InOneOutOne, InOneOutOne_Random, InOneOutOne_Optimal, InOneOutOne_Strategic"
   ]
  },
  {
   "cell_type": "code",
   "execution_count": 7,
   "metadata": {},
   "outputs": [
    {
     "name": "stdout",
     "output_type": "stream",
     "text": [
      "Run:  0 Start time:  18:24:07\n",
      "Gamma:  rnd Execution time: 0.2544419765472412 sec\n",
      "Gamma:  0 Execution time: 785.651127576828 sec\n",
      "Gamma:  1 Execution time: 1894.234317779541 sec\n",
      "Gamma:  2 Execution time: 1309.1858060359955 sec\n",
      "Gamma:  3 Execution time: 758.13294506073 sec\n",
      "Gamma:  4 Execution time: 777.6123442649841 sec\n",
      "Gamma:  5 Execution time: 959.6115679740906 sec\n",
      "Gamma:  6 Execution time: 1020.0491759777069 sec\n",
      "Gamma:  7 Execution time: 1055.6470489501953 sec\n",
      "Gamma:  8 Execution time: 1243.0556061267853 sec\n",
      "Gamma:  9 Execution time: 1398.8796379566193 sec\n",
      "Gamma:  inf Execution time: 1569.577786207199 sec\n",
      "Run:  1 Start time:  22:03:29\n",
      "Gamma:  rnd Execution time: 0.30376124382019043 sec\n",
      "Gamma:  0 Execution time: 755.5997807979584 sec\n",
      "Gamma:  1 Execution time: 742.6426229476929 sec\n",
      "Gamma:  2 Execution time: 736.5652389526367 sec\n",
      "Gamma:  3 Execution time: 758.905002117157 sec\n",
      "Gamma:  4 Execution time: 829.4693050384521 sec\n",
      "Gamma:  5 Execution time: 783.1012868881226 sec\n",
      "Gamma:  6 Execution time: 889.2535710334778 sec\n",
      "Gamma:  7 Execution time: 1016.395993232727 sec\n",
      "Gamma:  8 Execution time: 1241.6675758361816 sec\n",
      "Gamma:  9 Execution time: 1312.3858869075775 sec\n",
      "Gamma:  inf Execution time: 1534.4513900279999 sec\n",
      "Run:  2 Start time:  01:00:10\n",
      "Gamma:  rnd Execution time: 0.40215301513671875 sec\n",
      "Gamma:  0 Execution time: 776.7471289634705 sec\n",
      "Gamma:  1 Execution time: 745.7027220726013 sec\n",
      "Gamma:  2 Execution time: 730.6473889350891 sec\n",
      "Gamma:  3 Execution time: 749.8061058521271 sec\n",
      "Gamma:  4 Execution time: 791.3399910926819 sec\n",
      "Gamma:  5 Execution time: 768.2130260467529 sec\n",
      "Gamma:  6 Execution time: 931.5649948120117 sec\n",
      "Gamma:  7 Execution time: 1034.7255651950836 sec\n",
      "Gamma:  8 Execution time: 1234.912095785141 sec\n",
      "Gamma:  9 Execution time: 1376.8085269927979 sec\n",
      "Gamma:  inf Execution time: 1536.7691059112549 sec\n",
      "Run:  3 Start time:  03:58:07\n",
      "Gamma:  rnd Execution time: 0.2326509952545166 sec\n",
      "Gamma:  0 Execution time: 736.469831943512 sec\n",
      "Gamma:  1 Execution time: 715.592230796814 sec\n",
      "Gamma:  2 Execution time: 743.8444752693176 sec\n",
      "Gamma:  3 Execution time: 766.3738040924072 sec\n",
      "Gamma:  4 Execution time: 753.5232348442078 sec\n",
      "Gamma:  5 Execution time: 811.6415863037109 sec\n",
      "Gamma:  6 Execution time: 852.9984419345856 sec\n",
      "Gamma:  7 Execution time: 1062.2494258880615 sec\n",
      "Gamma:  8 Execution time: 1272.50208902359 sec\n",
      "Gamma:  9 Execution time: 1284.512274980545 sec\n",
      "Gamma:  inf Execution time: 1535.8873109817505 sec\n",
      "Run:  4 Start time:  06:53:43\n",
      "Gamma:  rnd Execution time: 0.23634982109069824 sec\n",
      "Gamma:  0 Execution time: 725.8078789710999 sec\n",
      "Gamma:  1 Execution time: 731.234090089798 sec\n",
      "Gamma:  2 Execution time: 741.9900131225586 sec\n",
      "Gamma:  3 Execution time: 766.1278667449951 sec\n",
      "Gamma:  4 Execution time: 745.9974751472473 sec\n",
      "Gamma:  5 Execution time: 892.6215851306915 sec\n",
      "Gamma:  6 Execution time: 838.707691192627 sec\n"
     ]
    }
   ],
   "source": [
    "runs = [1,2,3,4,5,6,7,8,9]\n",
    "gammas = [\"rnd\",0,1,2,3,4,5,6,7,8,9,\"inf\"]\n",
    "N = 100\n",
    "\n",
    "print(\"\"\"Run:  0 Start time:  18:24:07\n",
    "Gamma:  rnd Execution time: 0.2544419765472412 sec\n",
    "Gamma:  0 Execution time: 785.651127576828 sec\n",
    "Gamma:  1 Execution time: 1894.234317779541 sec\n",
    "Gamma:  2 Execution time: 1309.1858060359955 sec\n",
    "Gamma:  3 Execution time: 758.13294506073 sec\n",
    "Gamma:  4 Execution time: 777.6123442649841 sec\n",
    "Gamma:  5 Execution time: 959.6115679740906 sec\n",
    "Gamma:  6 Execution time: 1020.0491759777069 sec\n",
    "Gamma:  7 Execution time: 1055.6470489501953 sec\n",
    "Gamma:  8 Execution time: 1243.0556061267853 sec\n",
    "Gamma:  9 Execution time: 1398.8796379566193 sec\n",
    "Gamma:  inf Execution time: 1569.577786207199 sec\"\"\")\n",
    "\n",
    "for i in runs:\n",
    "\n",
    "    print(\"Run: \",i, \"Start time: \",dt.datetime.now().strftime(\"%H:%M:%S\"))\n",
    "\n",
    "    for gamma in gammas:\n",
    "\n",
    "        start_time = time.time()\n",
    "\n",
    "        # INITIALIZE MODEL\n",
    "        if gamma == \"inf\":\n",
    "            run = InOneOutOne_Optimal(m=3,alpha=0.95,select=\"max\",gamma=None)\n",
    "        elif gamma == \"rnd\":\n",
    "            run = InOneOutOne_Random(m=3)\n",
    "        else:\n",
    "            run = InOneOutOne_Strategic(m=3,alpha=0.95,gamma=gamma)\n",
    "        \n",
    "        # RUN MODEL\n",
    "        run.grow(N)\n",
    "\n",
    "        # LOAD NETWORKS\n",
    "        G_list = run.networks\n",
    "            \n",
    "        # NETWORK NAME\n",
    "        network = \"_\".join([\"i1o1\",\"m\"+str(run.specs[\"m\"]),\"a\"+str(run.specs[\"alpha\"]),\"g\"+str(gamma)])\n",
    "\n",
    "        # READY OUTPUT DIRECTORY\n",
    "        if not os.path.exists(os.path.join(code_dir,\"networks\",network)):\n",
    "            os.mkdir(os.path.join(code_dir,\"networks\",network))\n",
    "\n",
    "        # SAVE RUN\n",
    "        with open(os.path.join(code_dir,\"networks\",network,\"run_\"+str(i)+'.pkl'), 'wb') as f:\n",
    "            pickle.dump(run, f)\n",
    "\n",
    "        # PRINT\n",
    "        end_time = time.time()\n",
    "        print(\"Gamma: \",gamma, \"Execution time:\",end_time - start_time,\"sec\")\n"
   ]
  },
  {
   "cell_type": "code",
   "execution_count": null,
   "metadata": {},
   "outputs": [],
   "source": []
  },
  {
   "cell_type": "code",
   "execution_count": null,
   "metadata": {},
   "outputs": [],
   "source": []
  }
 ],
 "metadata": {
  "kernelspec": {
   "display_name": "Python 3 (ipykernel)",
   "language": "python",
   "name": "python3"
  },
  "language_info": {
   "codemirror_mode": {
    "name": "ipython",
    "version": 3
   },
   "file_extension": ".py",
   "mimetype": "text/x-python",
   "name": "python",
   "nbconvert_exporter": "python",
   "pygments_lexer": "ipython3",
   "version": "3.11.7"
  }
 },
 "nbformat": 4,
 "nbformat_minor": 2
}
