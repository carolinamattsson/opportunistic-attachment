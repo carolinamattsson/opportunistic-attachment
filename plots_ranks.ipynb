{
 "cells": [
  {
   "cell_type": "code",
   "execution_count": 1,
   "metadata": {},
   "outputs": [
    {
     "name": "stdout",
     "output_type": "stream",
     "text": [
      "Intel MKL WARNING: Support of Intel(R) Streaming SIMD Extensions 4.2 (Intel(R) SSE4.2) enabled only processors has been deprecated. Intel oneAPI Math Kernel Library 2025.0 will require Intel(R) Advanced Vector Extensions (Intel(R) AVX) instructions.\n",
      "Intel MKL WARNING: Support of Intel(R) Streaming SIMD Extensions 4.2 (Intel(R) SSE4.2) enabled only processors has been deprecated. Intel oneAPI Math Kernel Library 2025.0 will require Intel(R) Advanced Vector Extensions (Intel(R) AVX) instructions.\n"
     ]
    }
   ],
   "source": [
    "import matplotlib.pyplot as plt\n",
    "from matplotlib import cm\n",
    "import seaborn as sns\n",
    "import numpy as np\n",
    "import networkx as nx\n",
    "import datetime as dt\n",
    "import random\n",
    "import pickle\n",
    "import math\n",
    "import csv\n",
    "import os\n",
    "\n",
    "%matplotlib inline"
   ]
  },
  {
   "cell_type": "markdown",
   "metadata": {},
   "source": [
    "### Visualizations & plots"
   ]
  },
  {
   "cell_type": "code",
   "execution_count": 2,
   "metadata": {},
   "outputs": [],
   "source": [
    "home_dir = os.path.expanduser(\"~\")\n",
    "code_dir = os.path.join(home_dir,\"Developer\",\"GitHub\",\"endogenous-growth\")\n",
    "nets_dir = os.path.join(code_dir,\"networks\")\n",
    "figs_dir = os.path.join(code_dir,\"figures\")"
   ]
  },
  {
   "cell_type": "code",
   "execution_count": 3,
   "metadata": {},
   "outputs": [],
   "source": [
    "from utils import infomap_compression"
   ]
  },
  {
   "cell_type": "markdown",
   "metadata": {},
   "source": [
    "### Node dynamics -- node trajectories"
   ]
  },
  {
   "cell_type": "code",
   "execution_count": 4,
   "metadata": {},
   "outputs": [],
   "source": [
    "# DEFINE NETWORKS\n",
    "runs = list(range(50))\n",
    "gammas = [0,4,5,6,8]\n",
    "\n",
    "m = 3\n",
    "alpha = 0.95\n",
    "N = 100\n",
    "\n",
    "i_s = [3,10,20,30,40,50,60,70,80,90] # nodes entering at step i\n",
    "\n",
    "# NORMALIZED RANK OF NODES i\n",
    "ranks = {}\n",
    "ranks_avg = {}\n",
    "scores = {}\n",
    "scores_avg = {}\n",
    "\n",
    "for gamma in gammas:\n",
    "\n",
    "    # STORE OUTPUT\n",
    "    ranks[gamma] = {}\n",
    "    ranks_avg[gamma] = {} \n",
    "    scores[gamma] = {}\n",
    "    scores_avg[gamma] = {}\n",
    "\n",
    "    for i in i_s:\n",
    "\n",
    "        # STORE OUTPUT\n",
    "        ranks[gamma][i] = [] \n",
    "        scores[gamma][i] = [] \n",
    "        \n",
    "        for run in runs:\n",
    "            # DEFINE NETWORK\n",
    "            network = \"_\".join([\"i1o1\",\"m\"+str(m),\"a\"+str(alpha),\"g\"+str(gamma)])\n",
    "\n",
    "            # LOAD RUN\n",
    "            with open(os.path.join(code_dir,\"networks\",network,\"run_\"+str(run)+'.pkl'), 'rb') as f:\n",
    "                model = pickle.load(f)\n",
    "\n",
    "            # UNPACK\n",
    "            networks = model.networks\n",
    "            \n",
    "            # IDENTIFY NODE i\n",
    "            n_i = max(networks[i-1].nodes())\n",
    "\n",
    "            # GET SCORES\n",
    "            score = [G.nodes[n_i]['score'] for G in networks[i-1:]]\n",
    "            scores[gamma][i].append(np.array(score))\n",
    "\n",
    "            # GET RANKS\n",
    "            valuess = [nx.get_node_attributes(G, 'score') for G in networks[i-1:]]\n",
    "            rankings = [{node: rank for rank, node in enumerate(sorted(values, key=values.get))} for values in valuess]\n",
    "            rank = [ranking[n_i]/(i+j-1) for j, ranking in enumerate(rankings)]\n",
    "            ranks[gamma][i].append(np.array(rank))\n",
    "                \n",
    "        # GET AVERAGE RANKS\n",
    "        ranks_avg[gamma][i] = np.zeros(len(ranks[gamma][i][0]))\n",
    "        for run in runs:\n",
    "            ranks_avg[gamma][i] = ranks_avg[gamma][i] + ranks[gamma][i][run]\n",
    "        ranks_avg[gamma][i] = ranks_avg[gamma][i]/len(runs)\n",
    "\n",
    "        # GET AVERAGE SCORES\n",
    "        scores_avg[gamma][i] = np.zeros(len(scores[gamma][i][0]))\n",
    "        for run in runs:\n",
    "            scores_avg[gamma][i] = scores_avg[gamma][i] + scores[gamma][i][run]\n",
    "        scores_avg[gamma][i] = scores_avg[gamma][i]/len(runs)\n",
    "\n",
    "    # READY OUTPUT DIRECTORY\n",
    "    output = \"_\".join([\"i1o1\",\"m\"+str(m),\"a\"+str(alpha)])\n",
    "    if not os.path.exists(os.path.join(figs_dir,output)):\n",
    "        os.mkdir(os.path.join(figs_dir,output))"
   ]
  },
  {
   "cell_type": "code",
   "execution_count": 6,
   "metadata": {},
   "outputs": [],
   "source": [
    "# GAMMAS\n",
    "plot_gammas = [0,4,8]\n",
    "N=100\n",
    "\n",
    "# Create a colorbar\n",
    "cmap = plt.colormaps['BuPu'] \n",
    "colors = [cmap(i) for i in np.linspace(0.2, 1, len(i_s))]\n",
    "\n",
    "#initialize figure\n",
    "fig, ax = plt.subplots(1, 3, dpi=200, figsize=(12,4), sharex=True, sharey=True)\n",
    "\n",
    "for c, i in enumerate(i_s):\n",
    "\n",
    "       x = range(i,N+1)\n",
    "\n",
    "       # Plot the instances\n",
    "       for run in runs:\n",
    "              ax[0].plot(x, ranks[plot_gammas[0]][i][run], linestyle='-', linewidth = 0.5, alpha=0.1, color=colors[c])\n",
    "              ax[1].plot(x, ranks[plot_gammas[1]][i][run], linestyle='-', linewidth = 0.5, alpha=0.1, color=colors[c])\n",
    "              ax[2].plot(x, ranks[plot_gammas[2]][i][run], linestyle='-', linewidth = 0.5, alpha=0.1, color=colors[c])\n",
    "\n",
    "       # Plot the averages\n",
    "       ax[0].plot(x, ranks_avg[plot_gammas[0]][i], linestyle='-', linewidth = 2, alpha=1, color=colors[c])\n",
    "       ax[1].plot(x, ranks_avg[plot_gammas[1]][i], linestyle='-', linewidth = 2, alpha=1, color=colors[c])\n",
    "       ax[2].plot(x, ranks_avg[plot_gammas[2]][i], linestyle='-', linewidth = 2, alpha=1, color=colors[c])\n",
    "\n",
    "ax[0].set_xticks([3]+list(range(20,N+1,20)))\n",
    "ax[0].set_xticklabels(['N=3', '20', '40', '60', '80', '100'])\n",
    "# Remove the first tick mark\n",
    "#for i in range(3):\n",
    "#       lines = ax[i].get_xticklines()\n",
    "#       lines[0].set_visible(False)\n",
    "\n",
    "ax[0].set_xlim(0,N)\n",
    "ax[0].set_ylim(0,1)\n",
    "\n",
    "ax[0].set_title(\"Random (\"+r'$\\gamma$'+f' = {plot_gammas[0]})', fontsize=14)\n",
    "ax[1].set_title(\"Strategic (\"+r'$\\gamma$'+f' = {plot_gammas[1]})', fontsize=14)\n",
    "ax[2].set_title(\"Near-optimal (\"+r'$\\gamma$'+f' = {plot_gammas[2]})', fontsize=14)\n",
    "ax[0].set_ylabel(\"Relative rank\", fontsize=12)\n",
    "\n",
    "\n",
    "plt.savefig(os.path.join(figs_dir,output,\"node-dynamics.jpeg\"), bbox_inches='tight', dpi=300)\n",
    "plt.savefig(os.path.join(figs_dir,output,\"node-dynamics.pdf\"), bbox_inches='tight')\n",
    "plt.close()"
   ]
  }
 ],
 "metadata": {
  "kernelspec": {
   "display_name": "Python 3 (ipykernel)",
   "language": "python",
   "name": "python3"
  },
  "language_info": {
   "codemirror_mode": {
    "name": "ipython",
    "version": 3
   },
   "file_extension": ".py",
   "mimetype": "text/x-python",
   "name": "python",
   "nbconvert_exporter": "python",
   "pygments_lexer": "ipython3",
   "version": "3.11.7"
  }
 },
 "nbformat": 4,
 "nbformat_minor": 2
}
